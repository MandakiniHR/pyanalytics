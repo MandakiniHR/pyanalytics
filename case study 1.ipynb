{
 "cells": [
  {
   "cell_type": "code",
   "execution_count": 1,
   "id": "cd90291e",
   "metadata": {},
   "outputs": [],
   "source": [
    "#library"
   ]
  },
  {
   "cell_type": "code",
   "execution_count": 13,
   "id": "61fb17bf",
   "metadata": {},
   "outputs": [],
   "source": [
    "import pandas as pd\n",
    "import numpy as np\n",
    "import matplotlib.pyplot as plt\n",
    "import seaborn as sns\n",
    "import random\n",
    "import datetime as dt\n",
    "import os"
   ]
  },
  {
   "cell_type": "code",
   "execution_count": 14,
   "id": "36674578",
   "metadata": {},
   "outputs": [
    {
     "data": {
      "text/plain": [
       "['.git',\n",
       " '.ipynb_checkpoints',\n",
       " 'amitMIS.xlsx',\n",
       " 'case study 1.ipynb',\n",
       " 'D2_dataStructures.ipynb',\n",
       " 'D3_numpyPandas.ipynb',\n",
       " 'first.ipynb',\n",
       " 'list creation.ipynb',\n",
       " 'mtcarsas.csv',\n",
       " 'pract 1 list.ipynb',\n",
       " 'Untitled.ipynb',\n",
       " 'Untitled1.ipynb',\n",
       " 'Untitled2.ipynb',\n",
       " 'Untitled3.ipynb',\n",
       " 'Untitled4.ipynb',\n",
       " 'Untitled5.ipynb']"
      ]
     },
     "execution_count": 14,
     "metadata": {},
     "output_type": "execute_result"
    }
   ],
   "source": [
    "os.listdir()"
   ]
  },
  {
   "cell_type": "code",
   "execution_count": 18,
   "id": "dc869808",
   "metadata": {},
   "outputs": [],
   "source": [
    "df=pd.read_excel('amitMIS.xlsx', skiprows=1)"
   ]
  },
  {
   "cell_type": "code",
   "execution_count": 21,
   "id": "3ac8eb01",
   "metadata": {},
   "outputs": [
    {
     "data": {
      "text/html": [
       "<div>\n",
       "<style scoped>\n",
       "    .dataframe tbody tr th:only-of-type {\n",
       "        vertical-align: middle;\n",
       "    }\n",
       "\n",
       "    .dataframe tbody tr th {\n",
       "        vertical-align: top;\n",
       "    }\n",
       "\n",
       "    .dataframe thead th {\n",
       "        text-align: right;\n",
       "    }\n",
       "</style>\n",
       "<table border=\"1\" class=\"dataframe\">\n",
       "  <thead>\n",
       "    <tr style=\"text-align: right;\">\n",
       "      <th></th>\n",
       "      <th>Sr.No</th>\n",
       "      <th>Employee code</th>\n",
       "      <th>Name of the Employee</th>\n",
       "      <th>Designation</th>\n",
       "      <th>Department</th>\n",
       "      <th>Category</th>\n",
       "      <th>DOJ</th>\n",
       "      <th>End of Contract</th>\n",
       "      <th>Salary</th>\n",
       "      <th>DOB</th>\n",
       "      <th>Qualification</th>\n",
       "      <th>Expiriance</th>\n",
       "      <th>Registration No.</th>\n",
       "      <th>Registration No. Validity</th>\n",
       "      <th>Remarks</th>\n",
       "    </tr>\n",
       "  </thead>\n",
       "  <tbody>\n",
       "    <tr>\n",
       "      <th>0</th>\n",
       "      <td>1</td>\n",
       "      <td>29</td>\n",
       "      <td>Dr. Ashwini L. Bargaje</td>\n",
       "      <td>Clinical Assistant</td>\n",
       "      <td>Medical</td>\n",
       "      <td>RMO</td>\n",
       "      <td>2020-04-12</td>\n",
       "      <td>2023-04-11</td>\n",
       "      <td>21000</td>\n",
       "      <td>11.07.1995</td>\n",
       "      <td>BHMS</td>\n",
       "      <td>2Years</td>\n",
       "      <td>75634</td>\n",
       "      <td>NaN</td>\n",
       "      <td>NaN</td>\n",
       "    </tr>\n",
       "    <tr>\n",
       "      <th>1</th>\n",
       "      <td>2</td>\n",
       "      <td>25</td>\n",
       "      <td>Mr. Pratap V.Khedkar</td>\n",
       "      <td>Executive In HR</td>\n",
       "      <td>HR</td>\n",
       "      <td>Admin</td>\n",
       "      <td>2021-07-01</td>\n",
       "      <td>2022-06-30</td>\n",
       "      <td>25000</td>\n",
       "      <td>14.11.1979</td>\n",
       "      <td>Bachelor Of Arts</td>\n",
       "      <td>1Year</td>\n",
       "      <td>NaN</td>\n",
       "      <td>NaN</td>\n",
       "      <td>NaN</td>\n",
       "    </tr>\n",
       "  </tbody>\n",
       "</table>\n",
       "</div>"
      ],
      "text/plain": [
       "   Sr.No  Employee code     Name of the Employee         Designation   \\\n",
       "0      1              29  Dr. Ashwini L. Bargaje  Clinical Assistant    \n",
       "1      2              25   Mr. Pratap V.Khedkar      Executive In HR    \n",
       "\n",
       "  Department Category        DOJ End of Contract  Salary          DOB  \\\n",
       "0   Medical      RMO  2020-04-12      2023-04-11    21000  11.07.1995   \n",
       "1         HR   Admin  2021-07-01      2022-06-30    25000  14.11.1979   \n",
       "\n",
       "      Qualification  Expiriance  Registration No. Registration No. Validity   \\\n",
       "0               BHMS      2Years            75634                        NaN   \n",
       "1  Bachelor Of Arts       1Year               NaN                        NaN   \n",
       "\n",
       "   Remarks  \n",
       "0      NaN  \n",
       "1      NaN  "
      ]
     },
     "execution_count": 21,
     "metadata": {},
     "output_type": "execute_result"
    }
   ],
   "source": [
    "df.head(2)"
   ]
  },
  {
   "cell_type": "code",
   "execution_count": 25,
   "id": "3d87c1ff",
   "metadata": {},
   "outputs": [
    {
     "name": "stdout",
     "output_type": "stream",
     "text": [
      "15\n"
     ]
    }
   ],
   "source": [
    "df.columns\n",
    "print(len(df.columns))"
   ]
  },
  {
   "cell_type": "code",
   "execution_count": 26,
   "id": "53729fe8",
   "metadata": {},
   "outputs": [
    {
     "data": {
      "text/plain": [
       "15"
      ]
     },
     "execution_count": 26,
     "metadata": {},
     "output_type": "execute_result"
    }
   ],
   "source": [
    "newCol = ['ser','empID','empName','design','dept', 'category','DOJ','DOL','salary','DOB','qualifications','expr',\n",
    "          'regdNo','regdVal','remarks']\n",
    "len(newCol)"
   ]
  },
  {
   "cell_type": "code",
   "execution_count": 27,
   "id": "476e52cb",
   "metadata": {},
   "outputs": [
    {
     "data": {
      "text/html": [
       "<div>\n",
       "<style scoped>\n",
       "    .dataframe tbody tr th:only-of-type {\n",
       "        vertical-align: middle;\n",
       "    }\n",
       "\n",
       "    .dataframe tbody tr th {\n",
       "        vertical-align: top;\n",
       "    }\n",
       "\n",
       "    .dataframe thead th {\n",
       "        text-align: right;\n",
       "    }\n",
       "</style>\n",
       "<table border=\"1\" class=\"dataframe\">\n",
       "  <thead>\n",
       "    <tr style=\"text-align: right;\">\n",
       "      <th></th>\n",
       "      <th>ser</th>\n",
       "      <th>empID</th>\n",
       "      <th>empName</th>\n",
       "      <th>design</th>\n",
       "      <th>dept</th>\n",
       "      <th>category</th>\n",
       "      <th>DOJ</th>\n",
       "      <th>DOL</th>\n",
       "      <th>salary</th>\n",
       "      <th>DOB</th>\n",
       "      <th>qualifications</th>\n",
       "      <th>expr</th>\n",
       "      <th>regdNo</th>\n",
       "      <th>regdVal</th>\n",
       "      <th>remarks</th>\n",
       "    </tr>\n",
       "  </thead>\n",
       "  <tbody>\n",
       "    <tr>\n",
       "      <th>0</th>\n",
       "      <td>1</td>\n",
       "      <td>29</td>\n",
       "      <td>Dr. Ashwini L. Bargaje</td>\n",
       "      <td>Clinical Assistant</td>\n",
       "      <td>Medical</td>\n",
       "      <td>RMO</td>\n",
       "      <td>2020-04-12</td>\n",
       "      <td>2023-04-11</td>\n",
       "      <td>21000</td>\n",
       "      <td>11.07.1995</td>\n",
       "      <td>BHMS</td>\n",
       "      <td>2Years</td>\n",
       "      <td>75634</td>\n",
       "      <td>NaN</td>\n",
       "      <td>NaN</td>\n",
       "    </tr>\n",
       "    <tr>\n",
       "      <th>1</th>\n",
       "      <td>2</td>\n",
       "      <td>25</td>\n",
       "      <td>Mr. Pratap V.Khedkar</td>\n",
       "      <td>Executive In HR</td>\n",
       "      <td>HR</td>\n",
       "      <td>Admin</td>\n",
       "      <td>2021-07-01</td>\n",
       "      <td>2022-06-30</td>\n",
       "      <td>25000</td>\n",
       "      <td>14.11.1979</td>\n",
       "      <td>Bachelor Of Arts</td>\n",
       "      <td>1Year</td>\n",
       "      <td>NaN</td>\n",
       "      <td>NaN</td>\n",
       "      <td>NaN</td>\n",
       "    </tr>\n",
       "    <tr>\n",
       "      <th>2</th>\n",
       "      <td>3</td>\n",
       "      <td>27</td>\n",
       "      <td>Mr. Shivdatta P. Gholap</td>\n",
       "      <td>Radiology Technician</td>\n",
       "      <td>Radiology</td>\n",
       "      <td>Technician</td>\n",
       "      <td>2021-07-01</td>\n",
       "      <td>2022-06-30</td>\n",
       "      <td>25000</td>\n",
       "      <td>18.12.1988</td>\n",
       "      <td>X-Raay Technician In Diploma</td>\n",
       "      <td>6Years</td>\n",
       "      <td>NaN</td>\n",
       "      <td>NaN</td>\n",
       "      <td>NaN</td>\n",
       "    </tr>\n",
       "    <tr>\n",
       "      <th>3</th>\n",
       "      <td>4</td>\n",
       "      <td>30</td>\n",
       "      <td>Dr. Akshay W. Sonar</td>\n",
       "      <td>Clinical Assistant</td>\n",
       "      <td>Medical</td>\n",
       "      <td>RMO</td>\n",
       "      <td>2021-07-27</td>\n",
       "      <td>2022-07-26</td>\n",
       "      <td>18000</td>\n",
       "      <td>09.05.1997</td>\n",
       "      <td>BHMS</td>\n",
       "      <td>4Years</td>\n",
       "      <td>1516138419</td>\n",
       "      <td>NaN</td>\n",
       "      <td>NaN</td>\n",
       "    </tr>\n",
       "    <tr>\n",
       "      <th>4</th>\n",
       "      <td>5</td>\n",
       "      <td>23</td>\n",
       "      <td>Dr. Akshay M. Jadhav</td>\n",
       "      <td>Clinical Assistant</td>\n",
       "      <td>Medical</td>\n",
       "      <td>RMO</td>\n",
       "      <td>2022-01-01</td>\n",
       "      <td>2022-12-31</td>\n",
       "      <td>19000</td>\n",
       "      <td>14.10.1996</td>\n",
       "      <td>BAMS</td>\n",
       "      <td>1Years</td>\n",
       "      <td>77980</td>\n",
       "      <td>24.02.2021</td>\n",
       "      <td>NaN</td>\n",
       "    </tr>\n",
       "  </tbody>\n",
       "</table>\n",
       "</div>"
      ],
      "text/plain": [
       "   ser  empID                  empName                 design        dept  \\\n",
       "0    1     29   Dr. Ashwini L. Bargaje    Clinical Assistant     Medical    \n",
       "1    2     25    Mr. Pratap V.Khedkar        Executive In HR           HR   \n",
       "2    3     27  Mr. Shivdatta P. Gholap  Radiology Technician   Radiology    \n",
       "3    4     30      Dr. Akshay W. Sonar    Clinical Assistant     Medical    \n",
       "4    5     23    Dr. Akshay M. Jadhav     Clinical Assistant     Medical    \n",
       "\n",
       "      category        DOJ        DOL  salary         DOB  \\\n",
       "0         RMO  2020-04-12 2023-04-11   21000  11.07.1995   \n",
       "1       Admin  2021-07-01 2022-06-30   25000  14.11.1979   \n",
       "2  Technician  2021-07-01 2022-06-30   25000  18.12.1988   \n",
       "3         RMO  2021-07-27 2022-07-26   18000  09.05.1997   \n",
       "4         RMO  2022-01-01 2022-12-31   19000  14.10.1996   \n",
       "\n",
       "                  qualifications     expr      regdNo     regdVal  remarks  \n",
       "0                           BHMS   2Years       75634         NaN      NaN  \n",
       "1              Bachelor Of Arts    1Year          NaN         NaN      NaN  \n",
       "2  X-Raay Technician In Diploma   6Years          NaN         NaN      NaN  \n",
       "3                           BHMS  4Years   1516138419         NaN      NaN  \n",
       "4                           BAMS   1Years       77980  24.02.2021      NaN  "
      ]
     },
     "execution_count": 27,
     "metadata": {},
     "output_type": "execute_result"
    }
   ],
   "source": [
    "df.columns = newCol\n",
    "df.head()"
   ]
  },
  {
   "cell_type": "code",
   "execution_count": null,
   "id": "d3d7720e",
   "metadata": {},
   "outputs": [],
   "source": []
  }
 ],
 "metadata": {
  "kernelspec": {
   "display_name": "Python 3 (ipykernel)",
   "language": "python",
   "name": "python3"
  },
  "language_info": {
   "codemirror_mode": {
    "name": "ipython",
    "version": 3
   },
   "file_extension": ".py",
   "mimetype": "text/x-python",
   "name": "python",
   "nbconvert_exporter": "python",
   "pygments_lexer": "ipython3",
   "version": "3.11.4"
  }
 },
 "nbformat": 4,
 "nbformat_minor": 5
}
