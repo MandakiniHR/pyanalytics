{
 "cells": [
  {
   "cell_type": "code",
   "execution_count": 2,
   "id": "a49fa520",
   "metadata": {},
   "outputs": [],
   "source": [
    "#creating list with use of numbers\n",
    "#code to test that tuples are mutable"
   ]
  },
  {
   "cell_type": "code",
   "execution_count": 3,
   "id": "8ddc4df6",
   "metadata": {},
   "outputs": [],
   "source": [
    "list=[1,2,3,3,3,4,4,5,6]"
   ]
  },
  {
   "cell_type": "code",
   "execution_count": 4,
   "id": "1b110450",
   "metadata": {},
   "outputs": [],
   "source": [
    "print= (\"original list\" , list)"
   ]
  },
  {
   "cell_type": "code",
   "execution_count": 5,
   "id": "634fcdc4",
   "metadata": {},
   "outputs": [],
   "source": [
    "list[3]=77"
   ]
  },
  {
   "cell_type": "code",
   "execution_count": 7,
   "id": "1d008a0b",
   "metadata": {},
   "outputs": [
    {
     "ename": "TypeError",
     "evalue": "'tuple' object is not callable",
     "output_type": "error",
     "traceback": [
      "\u001b[1;31m---------------------------------------------------------------------------\u001b[0m",
      "\u001b[1;31mTypeError\u001b[0m                                 Traceback (most recent call last)",
      "Cell \u001b[1;32mIn[7], line 1\u001b[0m\n\u001b[1;32m----> 1\u001b[0m \u001b[38;5;28mprint\u001b[39m(\u001b[38;5;124m\"\u001b[39m\u001b[38;5;124mExample to show mutability\u001b[39m\u001b[38;5;124m\"\u001b[39m,\u001b[38;5;28mlist\u001b[39m)\n",
      "\u001b[1;31mTypeError\u001b[0m: 'tuple' object is not callable"
     ]
    }
   ],
   "source": [
    "print(\"Example to show mutability\" ,list)"
   ]
  },
  {
   "cell_type": "code",
   "execution_count": null,
   "id": "13cc67b0",
   "metadata": {},
   "outputs": [],
   "source": [
    " "
   ]
  }
 ],
 "metadata": {
  "kernelspec": {
   "display_name": "Python 3 (ipykernel)",
   "language": "python",
   "name": "python3"
  },
  "language_info": {
   "codemirror_mode": {
    "name": "ipython",
    "version": 3
   },
   "file_extension": ".py",
   "mimetype": "text/x-python",
   "name": "python",
   "nbconvert_exporter": "python",
   "pygments_lexer": "ipython3",
   "version": "3.11.4"
  }
 },
 "nbformat": 4,
 "nbformat_minor": 5
}
