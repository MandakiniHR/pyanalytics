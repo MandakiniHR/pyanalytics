{
 "cells": [
  {
   "cell_type": "markdown",
   "id": "744b4426-505f-4130-b1cd-c06b726a478f",
   "metadata": {
    "tags": []
   },
   "source": [
    "# Data Structures in Python\n",
    "-  lists\n",
    "-  tuple\n",
    "-  sets\n",
    "-  string\n",
    "-  dictonary\n",
    "-  https://stackoverflow.com/questions/tagged/list"
   ]
  },
  {
   "cell_type": "markdown",
   "id": "00177104-dd06-442f-921c-4cdd8cb5db93",
   "metadata": {},
   "source": [
    "## Lists"
   ]
  },
  {
   "cell_type": "code",
   "execution_count": 1,
   "id": "f814b63b-bcf4-466d-a266-52dcd9c6a4ff",
   "metadata": {},
   "outputs": [],
   "source": [
    "x=[1,2,3,4]"
   ]
  },
  {
   "cell_type": "code",
   "execution_count": 2,
   "id": "990dfb9d-1372-4a1c-bcf7-43dda5194173",
   "metadata": {},
   "outputs": [
    {
     "name": "stdout",
     "output_type": "stream",
     "text": [
      "[1, 2, 3, 4]\n"
     ]
    }
   ],
   "source": [
    "print(x)"
   ]
  },
  {
   "cell_type": "markdown",
   "id": "893ace83-ef49-4a54-9b92-e934c02e5dce",
   "metadata": {
    "tags": []
   },
   "source": [
    "## tuple\n",
    "-  like a list \n",
    "-  values cannot be changed  (immutable)\n",
    "-  create ()  : round bracket\n",
    "-  https://www.geeksforgeeks.org/tuples-in-python/"
   ]
  },
  {
   "cell_type": "code",
   "execution_count": 4,
   "id": "f06e9795-1d39-4e79-8532-5490da5b562f",
   "metadata": {},
   "outputs": [],
   "source": [
    "list1 = [1,2,'Mandakini', 45]"
   ]
  },
  {
   "cell_type": "code",
   "execution_count": 5,
   "id": "b63efb3a-e5c0-4491-802c-b8d5ed8368dd",
   "metadata": {},
   "outputs": [
    {
     "data": {
      "text/plain": [
       "[1, 2, 'Mandakini', 45]"
      ]
     },
     "execution_count": 5,
     "metadata": {},
     "output_type": "execute_result"
    }
   ],
   "source": [
    "list1"
   ]
  },
  {
   "cell_type": "code",
   "execution_count": 6,
   "id": "aafe8fd3-c184-464d-85f9-24363f7403e5",
   "metadata": {
    "tags": []
   },
   "outputs": [
    {
     "data": {
      "text/plain": [
       "2"
      ]
     },
     "execution_count": 6,
     "metadata": {},
     "output_type": "execute_result"
    }
   ],
   "source": [
    "list1[1]"
   ]
  },
  {
   "cell_type": "code",
   "execution_count": 7,
   "id": "7abfb3b4-babc-4d62-968e-398d5aceab5c",
   "metadata": {
    "tags": []
   },
   "outputs": [],
   "source": [
    "list1[1] = 200"
   ]
  },
  {
   "cell_type": "code",
   "execution_count": 8,
   "id": "6c5936f0-36d5-4265-96bb-f0c769c590bb",
   "metadata": {
    "tags": []
   },
   "outputs": [
    {
     "data": {
      "text/plain": [
       "[1, 200, 'Mandakini', 45]"
      ]
     },
     "execution_count": 8,
     "metadata": {},
     "output_type": "execute_result"
    }
   ],
   "source": [
    "list1"
   ]
  },
  {
   "cell_type": "code",
   "execution_count": 10,
   "id": "dd64b36e-f1da-4f09-abf6-e2c87a3b4e26",
   "metadata": {
    "tags": []
   },
   "outputs": [],
   "source": [
    "tuple1 = (1,2,'Mandakini', 45)"
   ]
  },
  {
   "cell_type": "code",
   "execution_count": 12,
   "id": "4ec0c663-f2fe-4226-96f0-f25762ba8b3d",
   "metadata": {
    "tags": []
   },
   "outputs": [
    {
     "data": {
      "text/plain": [
       "(1, 2, 'Mandakini', 45)"
      ]
     },
     "execution_count": 12,
     "metadata": {},
     "output_type": "execute_result"
    }
   ],
   "source": [
    "tuple1"
   ]
  },
  {
   "cell_type": "code",
   "execution_count": 13,
   "id": "51de6d6e-d593-41e1-85d0-e3f30bf99ed6",
   "metadata": {
    "tags": []
   },
   "outputs": [
    {
     "data": {
      "text/plain": [
       "tuple"
      ]
     },
     "execution_count": 13,
     "metadata": {},
     "output_type": "execute_result"
    }
   ],
   "source": [
    "type(tuple1)"
   ]
  },
  {
   "cell_type": "code",
   "execution_count": 15,
   "id": "5491d01b-39f1-4d5a-933d-cb4dfa761fc9",
   "metadata": {
    "tags": []
   },
   "outputs": [
    {
     "data": {
      "text/plain": [
       "list"
      ]
     },
     "execution_count": 15,
     "metadata": {},
     "output_type": "execute_result"
    }
   ],
   "source": [
    "type(list1)"
   ]
  },
  {
   "cell_type": "code",
   "execution_count": 16,
   "id": "180f5ea6-eb5a-4286-b389-985bd370f318",
   "metadata": {
    "tags": []
   },
   "outputs": [
    {
     "data": {
      "text/plain": [
       "2"
      ]
     },
     "execution_count": 16,
     "metadata": {},
     "output_type": "execute_result"
    }
   ],
   "source": [
    "tuple1[1]"
   ]
  },
  {
   "cell_type": "code",
   "execution_count": 17,
   "id": "fa9cf90e-4f88-42d7-931f-2f7bc0473849",
   "metadata": {
    "tags": []
   },
   "outputs": [
    {
     "ename": "TypeError",
     "evalue": "'tuple' object does not support item assignment",
     "output_type": "error",
     "traceback": [
      "\u001b[1;31m---------------------------------------------------------------------------\u001b[0m",
      "\u001b[1;31mTypeError\u001b[0m                                 Traceback (most recent call last)",
      "Cell \u001b[1;32mIn[17], line 1\u001b[0m\n\u001b[1;32m----> 1\u001b[0m tuple1[\u001b[38;5;241m1\u001b[39m]\u001b[38;5;241m=\u001b[39m\u001b[38;5;241m200\u001b[39m\n",
      "\u001b[1;31mTypeError\u001b[0m: 'tuple' object does not support item assignment"
     ]
    }
   ],
   "source": [
    "tuple1[1]=200"
   ]
  },
  {
   "cell_type": "code",
   "execution_count": 18,
   "id": "1f05fd59-c8e2-478f-848a-ed530af8ec9f",
   "metadata": {
    "tags": []
   },
   "outputs": [],
   "source": [
    "tuple1 = [4,5,5]"
   ]
  },
  {
   "cell_type": "code",
   "execution_count": 19,
   "id": "cce2db79-31ba-4a6e-86b1-e5a60dc47e29",
   "metadata": {
    "tags": []
   },
   "outputs": [
    {
     "data": {
      "text/plain": [
       "[4, 5, 5]"
      ]
     },
     "execution_count": 19,
     "metadata": {},
     "output_type": "execute_result"
    }
   ],
   "source": [
    "tuple1"
   ]
  },
  {
   "cell_type": "markdown",
   "id": "4a147ed7-d825-4362-89cf-0ba3a2558c14",
   "metadata": {},
   "source": [
    "## Set\n",
    "-  used like venn diagram\n",
    "-  unordered items\n",
    "-  create by { ,  }\n",
    "-  https://www.geeksforgeeks.org/python-set-method/"
   ]
  },
  {
   "cell_type": "code",
   "execution_count": 20,
   "id": "47f4ace9-f5ef-4946-9bc5-ed5910510eaf",
   "metadata": {
    "tags": []
   },
   "outputs": [],
   "source": [
    "iplA = {'KKR', 'GT', 'SRH', 'KKR'}"
   ]
  },
  {
   "cell_type": "code",
   "execution_count": 21,
   "id": "e607399e-3b7c-4609-9318-2295ff8a0d31",
   "metadata": {
    "tags": []
   },
   "outputs": [
    {
     "data": {
      "text/plain": [
       "{'GT', 'KKR', 'SRH'}"
      ]
     },
     "execution_count": 21,
     "metadata": {},
     "output_type": "execute_result"
    }
   ],
   "source": [
    "iplA"
   ]
  },
  {
   "cell_type": "code",
   "execution_count": 23,
   "id": "83e498a1-3dc3-4cc2-a387-c9b5b71bc3b1",
   "metadata": {
    "tags": []
   },
   "outputs": [
    {
     "data": {
      "text/plain": [
       "set"
      ]
     },
     "execution_count": 23,
     "metadata": {},
     "output_type": "execute_result"
    }
   ],
   "source": [
    "type(iplA)"
   ]
  },
  {
   "cell_type": "code",
   "execution_count": 24,
   "id": "c371fa30-8546-4197-9abb-fca646e0e3bf",
   "metadata": {
    "tags": []
   },
   "outputs": [],
   "source": [
    "iplB = {'RCB', 'LSG', 'PXI', 'DD', 'KKR'}"
   ]
  },
  {
   "cell_type": "code",
   "execution_count": 25,
   "id": "86ab0a08-fed5-4b88-a2e2-6aa40acdbbf6",
   "metadata": {
    "tags": []
   },
   "outputs": [
    {
     "data": {
      "text/plain": [
       "{'DD', 'KKR', 'LSG', 'PXI', 'RCB'}"
      ]
     },
     "execution_count": 25,
     "metadata": {},
     "output_type": "execute_result"
    }
   ],
   "source": [
    "iplB"
   ]
  },
  {
   "cell_type": "code",
   "execution_count": 26,
   "id": "121f541e-72a8-4656-be26-be3da75068f2",
   "metadata": {
    "tags": []
   },
   "outputs": [
    {
     "data": {
      "text/plain": [
       "{'DD', 'GT', 'KKR', 'LSG', 'PXI', 'RCB', 'SRH'}"
      ]
     },
     "execution_count": 26,
     "metadata": {},
     "output_type": "execute_result"
    }
   ],
   "source": [
    "iplA.union(iplB)"
   ]
  },
  {
   "cell_type": "code",
   "execution_count": 29,
   "id": "184f8a15-fab7-4bd8-b0fe-bccffd43181b",
   "metadata": {
    "tags": []
   },
   "outputs": [
    {
     "data": {
      "text/plain": [
       "{'DD', 'GT', 'KKR', 'LSG', 'PXI', 'RCB', 'SRH'}"
      ]
     },
     "execution_count": 29,
     "metadata": {},
     "output_type": "execute_result"
    }
   ],
   "source": [
    "iplA | iplB"
   ]
  },
  {
   "cell_type": "code",
   "execution_count": 27,
   "id": "0b9ff37c-2d3a-46af-8a78-a1f18840ad92",
   "metadata": {
    "tags": []
   },
   "outputs": [
    {
     "data": {
      "text/plain": [
       "{'KKR'}"
      ]
     },
     "execution_count": 27,
     "metadata": {},
     "output_type": "execute_result"
    }
   ],
   "source": [
    "iplA.intersection(iplB)"
   ]
  },
  {
   "cell_type": "code",
   "execution_count": 28,
   "id": "aaea5d9f-e210-41f9-8a57-73631ae7ce89",
   "metadata": {
    "tags": []
   },
   "outputs": [
    {
     "data": {
      "text/plain": [
       "{'KKR'}"
      ]
     },
     "execution_count": 28,
     "metadata": {},
     "output_type": "execute_result"
    }
   ],
   "source": [
    "iplA & iplB"
   ]
  },
  {
   "cell_type": "code",
   "execution_count": 30,
   "id": "3cfa26ac-295d-498d-acde-5023e754934d",
   "metadata": {
    "tags": []
   },
   "outputs": [
    {
     "data": {
      "text/plain": [
       "{'GT', 'SRH'}"
      ]
     },
     "execution_count": 30,
     "metadata": {},
     "output_type": "execute_result"
    }
   ],
   "source": [
    "iplA - iplB"
   ]
  },
  {
   "cell_type": "code",
   "execution_count": null,
   "id": "d1f48e3a-79f4-4c09-a1a4-1ce41b260bfb",
   "metadata": {},
   "outputs": [],
   "source": []
  }
 ],
 "metadata": {
  "kernelspec": {
   "display_name": "Python 3 (ipykernel)",
   "language": "python",
   "name": "python3"
  },
  "language_info": {
   "codemirror_mode": {
    "name": "ipython",
    "version": 3
   },
   "file_extension": ".py",
   "mimetype": "text/x-python",
   "name": "python",
   "nbconvert_exporter": "python",
   "pygments_lexer": "ipython3",
   "version": "3.11.4"
  }
 },
 "nbformat": 4,
 "nbformat_minor": 5
}
